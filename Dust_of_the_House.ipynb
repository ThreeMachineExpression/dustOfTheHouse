{
  "nbformat": 4,
  "nbformat_minor": 0,
  "metadata": {
    "colab": {
      "name": "Dust of the House.ipynb",
      "provenance": [],
      "authorship_tag": "ABX9TyP/AS7ajrcSLhOaako5QA19",
      "include_colab_link": true
    },
    "kernelspec": {
      "name": "python3",
      "display_name": "Python 3"
    }
  },
  "cells": [
    {
      "cell_type": "markdown",
      "metadata": {
        "id": "view-in-github",
        "colab_type": "text"
      },
      "source": [
        "<a href=\"https://colab.research.google.com/github/ThreeMachineExpression/dustOfTheHouse/blob/main/Dust_of_the_House.ipynb\" target=\"_parent\"><img src=\"https://colab.research.google.com/assets/colab-badge.svg\" alt=\"Open In Colab\"/></a>"
      ]
    },
    {
      "cell_type": "markdown",
      "metadata": {
        "id": "-1mWcCupSXEl"
      },
      "source": [
        "# Setup (run before generating)"
      ]
    },
    {
      "cell_type": "code",
      "metadata": {
        "id": "bxQRq3pAE0q8"
      },
      "source": [
        "# Text\r\n",
        "\r\n",
        "# Source lines, as a list of lists\r\n",
        "# If there aren't 4 lists, the poem may break  \r\n",
        "lines = [[\"A house\",\r\n",
        "          \"A house of dust\",\r\n",
        "          \"A house on fire\",\r\n",
        "          \"A house of old wood\",\r\n",
        "          \"A house of many voices\",\r\n",
        "          \"A home to all\",\r\n",
        "          \"An unfamiliar room\",\r\n",
        "          \"A place known by map alone\",\r\n",
        "          \"A cacophony of hope\",\r\n",
        "          \"A faint, unplaceable scent\",\r\n",
        "          \"A house\",\r\n",
        "          \"\"],\r\n",
        "         \r\n",
        "         [\"      \",\r\n",
        "          \"      among other houses\",\r\n",
        "          \"      in someone else's city\",\r\n",
        "          \"      in an unforgiving climate\",\r\n",
        "          \"      on a still day\",      \r\n",
        "          \"      right where it ought to be\",\r\n",
        "          \"      just ahead\",\r\n",
        "          \"      far in the future\",\r\n",
        "          \"      in the dreams of a stranger\",\r\n",
        "          \"      devoid of context\",\r\n",
        "          \"\"],\r\n",
        "\r\n",
        "         [\"            \",\r\n",
        "          \"            in darkness\",\r\n",
        "          \"            \",\r\n",
        "          \"            painfully bright\",\r\n",
        "          \"            \",\r\n",
        "          \"            exactly as you imagined it\",\r\n",
        "          \"            \",\r\n",
        "          \"            aglow, aglow, aglow\",\r\n",
        "          \"            \",\r\n",
        "          \"            imperfectly hidden\",\r\n",
        "          \"\"],\r\n",
        "\r\n",
        "         [\"                  \",\r\n",
        "          \"                  no one can enter\",\r\n",
        "          \"                  long uninhabited\",\r\n",
        "          \"                  still inhabited, despite your clear warnings\",\r\n",
        "          \"                  inhabited by people who sleep very little\",\r\n",
        "          \"                  a bit crowded, considering\",\r\n",
        "          \"                  inhabited by friends\",\r\n",
        "          \"                  bursting with claims on your heart\",\r\n",
        "          \"                  with unbounded capacity\",\r\n",
        "          \"                  what belongs in it?\",\r\n",
        "          \"\"]]"
      ],
      "execution_count": 1,
      "outputs": []
    },
    {
      "cell_type": "code",
      "metadata": {
        "id": "jFxyI0FQdmz1"
      },
      "source": [
        "# Imports, Initialization, & Function Definitions\r\n",
        "\r\n",
        "import time\r\n",
        "import random\r\n",
        "from IPython.display import display_pretty, clear_output\r\n",
        "\r\n",
        "# test if a line at index i is not yet in its final form\r\n",
        "def lineStillGoing(i):\r\n",
        "  return (lineTracker[i] < lineCounts[i] - 1)\r\n",
        "\r\n",
        "# the poem should continue if any line is not in its final form\r\n",
        "def stillGoing():\r\n",
        "  for i in range(0,4):\r\n",
        "    if lineStillGoing(i):\r\n",
        "      return True\r\n",
        "  return False\r\n",
        "\r\n",
        "# returns a single string with the current form of the poem\r\n",
        "def currentForm():\r\n",
        "  currentFormAsList = []\r\n",
        "  for i in range(0,4):\r\n",
        "    currentFormAsList.append(lines[i][lineTracker[i]])\r\n",
        "  return '\\n'.join(currentFormAsList)\r\n",
        "\r\n",
        "# returns the index of a random line not in its final form\r\n",
        "# (or throws an exception if there is none)\r\n",
        "# weighted by how many lines are left\r\n",
        "def randUnfinishedLine():\r\n",
        "  options = []\r\n",
        "  weights = []\r\n",
        "\r\n",
        "  for i in range(0,4):\r\n",
        "    if lineStillGoing(i):\r\n",
        "      options.append(i)\r\n",
        "      weights.append(lineCounts[i] - lineTracker[i] - 1)\r\n",
        "\r\n",
        "  return random.choices(options, weights=weights)[0]\r\n",
        "\r\n"
      ],
      "execution_count": 2,
      "outputs": []
    },
    {
      "cell_type": "markdown",
      "metadata": {
        "id": "Wo6BBDtUScUp"
      },
      "source": [
        "# Tests (don't need to run)"
      ]
    },
    {
      "cell_type": "code",
      "metadata": {
        "colab": {
          "base_uri": "https://localhost:8080/"
        },
        "id": "yizfCAVOf8FI",
        "outputId": "eef40121-178a-46b1-ed9c-ee0c03dd8daf"
      },
      "source": [
        "# Tests / Scratchpad"
      ],
      "execution_count": null,
      "outputs": [
        {
          "output_type": "stream",
          "text": [
            "[12, 11, 11, 11]\n"
          ],
          "name": "stdout"
        }
      ]
    },
    {
      "cell_type": "markdown",
      "metadata": {
        "id": "9J4hlFcUIM3G"
      },
      "source": [
        "# Generator"
      ]
    },
    {
      "cell_type": "code",
      "metadata": {
        "colab": {
          "base_uri": "https://localhost:8080/",
          "height": 68
        },
        "id": "tsntg5rDgEo7",
        "outputId": "f6e8019f-f60e-4784-ac86-d994f5a77bfb"
      },
      "source": [
        "lineTracker = [0,0,0,0]\r\n",
        "\r\n",
        "lineCounts = []\r\n",
        "for x in lines:\r\n",
        "  lineCounts.append(len(x))\r\n",
        "\r\n",
        "display_pretty(currentForm(), raw = True)\r\n",
        "\r\n",
        "while stillGoing():  \r\n",
        "  time.sleep(2)\r\n",
        "\r\n",
        "  clear_output(wait=True)\r\n",
        "  \r\n",
        "  i = randUnfinishedLine()\r\n",
        "  lineTracker[i] += 1\r\n",
        "\r\n",
        "  display_pretty(currentForm(), raw = True)\r\n"
      ],
      "execution_count": null,
      "outputs": [
        {
          "output_type": "display_data",
          "data": {
            "text/plain": [
              "\n",
              "\n",
              "\n"
            ]
          },
          "metadata": {
            "tags": []
          }
        }
      ]
    }
  ]
}